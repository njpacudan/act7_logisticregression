{
 "cells": [
  {
   "cell_type": "code",
   "execution_count": 1,
   "id": "fbbf42c8",
   "metadata": {
    "execution": {
     "iopub.execute_input": "2023-05-20T12:12:36.073174Z",
     "iopub.status.busy": "2023-05-20T12:12:36.072683Z",
     "iopub.status.idle": "2023-05-20T12:12:38.387893Z",
     "shell.execute_reply": "2023-05-20T12:12:38.386161Z"
    },
    "papermill": {
     "duration": 2.329342,
     "end_time": "2023-05-20T12:12:38.391253",
     "exception": false,
     "start_time": "2023-05-20T12:12:36.061911",
     "status": "completed"
    },
    "tags": []
   },
   "outputs": [
    {
     "name": "stderr",
     "output_type": "stream",
     "text": [
      "/opt/conda/lib/python3.10/site-packages/scipy/__init__.py:146: UserWarning: A NumPy version >=1.16.5 and <1.23.0 is required for this version of SciPy (detected version 1.23.5\n",
      "  warnings.warn(f\"A NumPy version >={np_minversion} and <{np_maxversion}\"\n"
     ]
    }
   ],
   "source": [
    "import numpy as np\n",
    "import pandas as pd\n",
    "import matplotlib.pyplot as plt\n",
    "import seaborn as sns\n",
    "from sklearn import metrics\n",
    "from sklearn.tree import DecisionTreeClassifier\n",
    "from sklearn.model_selection import train_test_split\n",
    "from sklearn.model_selection import cross_val_score\n",
    "from sklearn.metrics import accuracy_score, confusion_matrix\n",
    "from sklearn.ensemble import RandomForestClassifier\n",
    "from sklearn.neighbors import KNeighborsClassifier\n",
    "from sklearn.svm import SVC\n",
    "from sklearn.naive_bayes import GaussianNB\n",
    "\n"
   ]
  },
  {
   "cell_type": "code",
   "execution_count": 2,
   "id": "41bbd231",
   "metadata": {
    "execution": {
     "iopub.execute_input": "2023-05-20T12:12:38.408848Z",
     "iopub.status.busy": "2023-05-20T12:12:38.408404Z",
     "iopub.status.idle": "2023-05-20T12:12:38.438997Z",
     "shell.execute_reply": "2023-05-20T12:12:38.437019Z"
    },
    "papermill": {
     "duration": 0.043024,
     "end_time": "2023-05-20T12:12:38.442324",
     "exception": false,
     "start_time": "2023-05-20T12:12:38.399300",
     "status": "completed"
    },
    "tags": []
   },
   "outputs": [],
   "source": [
    "df = pd.read_csv(\"/kaggle/input/titanicpassengersurvivalrate/titanicpassengersurvivalrate.csv\")"
   ]
  },
  {
   "cell_type": "code",
   "execution_count": 3,
   "id": "95001b8b",
   "metadata": {
    "execution": {
     "iopub.execute_input": "2023-05-20T12:12:38.459581Z",
     "iopub.status.busy": "2023-05-20T12:12:38.459161Z",
     "iopub.status.idle": "2023-05-20T12:12:38.509730Z",
     "shell.execute_reply": "2023-05-20T12:12:38.508100Z"
    },
    "papermill": {
     "duration": 0.063275,
     "end_time": "2023-05-20T12:12:38.513296",
     "exception": false,
     "start_time": "2023-05-20T12:12:38.450021",
     "status": "completed"
    },
    "tags": []
   },
   "outputs": [
    {
     "data": {
      "text/html": [
       "<div>\n",
       "<style scoped>\n",
       "    .dataframe tbody tr th:only-of-type {\n",
       "        vertical-align: middle;\n",
       "    }\n",
       "\n",
       "    .dataframe tbody tr th {\n",
       "        vertical-align: top;\n",
       "    }\n",
       "\n",
       "    .dataframe thead th {\n",
       "        text-align: right;\n",
       "    }\n",
       "</style>\n",
       "<table border=\"1\" class=\"dataframe\">\n",
       "  <thead>\n",
       "    <tr style=\"text-align: right;\">\n",
       "      <th></th>\n",
       "      <th>PassengerId</th>\n",
       "      <th>Pclass</th>\n",
       "      <th>Male</th>\n",
       "      <th>Female</th>\n",
       "      <th>Age</th>\n",
       "      <th>Survived</th>\n",
       "    </tr>\n",
       "  </thead>\n",
       "  <tbody>\n",
       "    <tr>\n",
       "      <th>0</th>\n",
       "      <td>1</td>\n",
       "      <td>3</td>\n",
       "      <td>1</td>\n",
       "      <td>0</td>\n",
       "      <td>22.0</td>\n",
       "      <td>0</td>\n",
       "    </tr>\n",
       "    <tr>\n",
       "      <th>1</th>\n",
       "      <td>2</td>\n",
       "      <td>1</td>\n",
       "      <td>0</td>\n",
       "      <td>1</td>\n",
       "      <td>38.0</td>\n",
       "      <td>1</td>\n",
       "    </tr>\n",
       "    <tr>\n",
       "      <th>2</th>\n",
       "      <td>3</td>\n",
       "      <td>3</td>\n",
       "      <td>0</td>\n",
       "      <td>1</td>\n",
       "      <td>26.0</td>\n",
       "      <td>1</td>\n",
       "    </tr>\n",
       "    <tr>\n",
       "      <th>3</th>\n",
       "      <td>4</td>\n",
       "      <td>1</td>\n",
       "      <td>0</td>\n",
       "      <td>1</td>\n",
       "      <td>35.0</td>\n",
       "      <td>1</td>\n",
       "    </tr>\n",
       "    <tr>\n",
       "      <th>4</th>\n",
       "      <td>5</td>\n",
       "      <td>3</td>\n",
       "      <td>1</td>\n",
       "      <td>0</td>\n",
       "      <td>35.0</td>\n",
       "      <td>0</td>\n",
       "    </tr>\n",
       "    <tr>\n",
       "      <th>...</th>\n",
       "      <td>...</td>\n",
       "      <td>...</td>\n",
       "      <td>...</td>\n",
       "      <td>...</td>\n",
       "      <td>...</td>\n",
       "      <td>...</td>\n",
       "    </tr>\n",
       "    <tr>\n",
       "      <th>886</th>\n",
       "      <td>887</td>\n",
       "      <td>2</td>\n",
       "      <td>1</td>\n",
       "      <td>0</td>\n",
       "      <td>27.0</td>\n",
       "      <td>0</td>\n",
       "    </tr>\n",
       "    <tr>\n",
       "      <th>887</th>\n",
       "      <td>888</td>\n",
       "      <td>1</td>\n",
       "      <td>0</td>\n",
       "      <td>1</td>\n",
       "      <td>19.0</td>\n",
       "      <td>1</td>\n",
       "    </tr>\n",
       "    <tr>\n",
       "      <th>888</th>\n",
       "      <td>889</td>\n",
       "      <td>3</td>\n",
       "      <td>0</td>\n",
       "      <td>1</td>\n",
       "      <td>3.0</td>\n",
       "      <td>0</td>\n",
       "    </tr>\n",
       "    <tr>\n",
       "      <th>889</th>\n",
       "      <td>890</td>\n",
       "      <td>1</td>\n",
       "      <td>1</td>\n",
       "      <td>0</td>\n",
       "      <td>26.0</td>\n",
       "      <td>1</td>\n",
       "    </tr>\n",
       "    <tr>\n",
       "      <th>890</th>\n",
       "      <td>891</td>\n",
       "      <td>3</td>\n",
       "      <td>1</td>\n",
       "      <td>0</td>\n",
       "      <td>32.0</td>\n",
       "      <td>0</td>\n",
       "    </tr>\n",
       "  </tbody>\n",
       "</table>\n",
       "<p>891 rows × 6 columns</p>\n",
       "</div>"
      ],
      "text/plain": [
       "     PassengerId  Pclass  Male  Female   Age  Survived\n",
       "0              1       3     1       0  22.0         0\n",
       "1              2       1     0       1  38.0         1\n",
       "2              3       3     0       1  26.0         1\n",
       "3              4       1     0       1  35.0         1\n",
       "4              5       3     1       0  35.0         0\n",
       "..           ...     ...   ...     ...   ...       ...\n",
       "886          887       2     1       0  27.0         0\n",
       "887          888       1     0       1  19.0         1\n",
       "888          889       3     0       1   3.0         0\n",
       "889          890       1     1       0  26.0         1\n",
       "890          891       3     1       0  32.0         0\n",
       "\n",
       "[891 rows x 6 columns]"
      ]
     },
     "execution_count": 3,
     "metadata": {},
     "output_type": "execute_result"
    }
   ],
   "source": [
    "df"
   ]
  },
  {
   "cell_type": "code",
   "execution_count": 4,
   "id": "151c7adf",
   "metadata": {
    "execution": {
     "iopub.execute_input": "2023-05-20T12:12:38.534662Z",
     "iopub.status.busy": "2023-05-20T12:12:38.534205Z",
     "iopub.status.idle": "2023-05-20T12:12:38.547275Z",
     "shell.execute_reply": "2023-05-20T12:12:38.545583Z"
    },
    "papermill": {
     "duration": 0.02775,
     "end_time": "2023-05-20T12:12:38.550747",
     "exception": false,
     "start_time": "2023-05-20T12:12:38.522997",
     "status": "completed"
    },
    "tags": []
   },
   "outputs": [
    {
     "data": {
      "text/plain": [
       "<bound method DataFrame.count of      PassengerId  Pclass  Male  Female   Age  Survived\n",
       "0              1       3     1       0  22.0         0\n",
       "1              2       1     0       1  38.0         1\n",
       "2              3       3     0       1  26.0         1\n",
       "3              4       1     0       1  35.0         1\n",
       "4              5       3     1       0  35.0         0\n",
       "..           ...     ...   ...     ...   ...       ...\n",
       "886          887       2     1       0  27.0         0\n",
       "887          888       1     0       1  19.0         1\n",
       "888          889       3     0       1   3.0         0\n",
       "889          890       1     1       0  26.0         1\n",
       "890          891       3     1       0  32.0         0\n",
       "\n",
       "[891 rows x 6 columns]>"
      ]
     },
     "execution_count": 4,
     "metadata": {},
     "output_type": "execute_result"
    }
   ],
   "source": [
    "df.count"
   ]
  },
  {
   "cell_type": "code",
   "execution_count": 5,
   "id": "400d600f",
   "metadata": {
    "execution": {
     "iopub.execute_input": "2023-05-20T12:12:38.573328Z",
     "iopub.status.busy": "2023-05-20T12:12:38.572829Z",
     "iopub.status.idle": "2023-05-20T12:12:38.584667Z",
     "shell.execute_reply": "2023-05-20T12:12:38.583111Z"
    },
    "papermill": {
     "duration": 0.027498,
     "end_time": "2023-05-20T12:12:38.588076",
     "exception": false,
     "start_time": "2023-05-20T12:12:38.560578",
     "status": "completed"
    },
    "tags": []
   },
   "outputs": [
    {
     "data": {
      "text/plain": [
       "PassengerId    0\n",
       "Pclass         0\n",
       "Male           0\n",
       "Female         0\n",
       "Age            0\n",
       "Survived       0\n",
       "dtype: int64"
      ]
     },
     "execution_count": 5,
     "metadata": {},
     "output_type": "execute_result"
    }
   ],
   "source": [
    "df.isna().sum()"
   ]
  },
  {
   "cell_type": "code",
   "execution_count": 6,
   "id": "3cb2a2bb",
   "metadata": {
    "execution": {
     "iopub.execute_input": "2023-05-20T12:12:38.610600Z",
     "iopub.status.busy": "2023-05-20T12:12:38.609803Z",
     "iopub.status.idle": "2023-05-20T12:12:38.647066Z",
     "shell.execute_reply": "2023-05-20T12:12:38.645903Z"
    },
    "papermill": {
     "duration": 0.052397,
     "end_time": "2023-05-20T12:12:38.650659",
     "exception": false,
     "start_time": "2023-05-20T12:12:38.598262",
     "status": "completed"
    },
    "tags": []
   },
   "outputs": [
    {
     "data": {
      "text/html": [
       "<div>\n",
       "<style scoped>\n",
       "    .dataframe tbody tr th:only-of-type {\n",
       "        vertical-align: middle;\n",
       "    }\n",
       "\n",
       "    .dataframe tbody tr th {\n",
       "        vertical-align: top;\n",
       "    }\n",
       "\n",
       "    .dataframe thead th {\n",
       "        text-align: right;\n",
       "    }\n",
       "</style>\n",
       "<table border=\"1\" class=\"dataframe\">\n",
       "  <thead>\n",
       "    <tr style=\"text-align: right;\">\n",
       "      <th></th>\n",
       "      <th>PassengerId</th>\n",
       "      <th>Pclass</th>\n",
       "      <th>Male</th>\n",
       "      <th>Female</th>\n",
       "      <th>Age</th>\n",
       "      <th>Survived</th>\n",
       "    </tr>\n",
       "  </thead>\n",
       "  <tbody>\n",
       "    <tr>\n",
       "      <th>count</th>\n",
       "      <td>891.000000</td>\n",
       "      <td>891.000000</td>\n",
       "      <td>891.000000</td>\n",
       "      <td>891.000000</td>\n",
       "      <td>891.000000</td>\n",
       "      <td>891.000000</td>\n",
       "    </tr>\n",
       "    <tr>\n",
       "      <th>mean</th>\n",
       "      <td>446.000000</td>\n",
       "      <td>2.308642</td>\n",
       "      <td>0.647587</td>\n",
       "      <td>0.352413</td>\n",
       "      <td>29.718485</td>\n",
       "      <td>0.383838</td>\n",
       "    </tr>\n",
       "    <tr>\n",
       "      <th>std</th>\n",
       "      <td>257.353842</td>\n",
       "      <td>0.836071</td>\n",
       "      <td>0.477990</td>\n",
       "      <td>0.477990</td>\n",
       "      <td>14.026406</td>\n",
       "      <td>0.486592</td>\n",
       "    </tr>\n",
       "    <tr>\n",
       "      <th>min</th>\n",
       "      <td>1.000000</td>\n",
       "      <td>1.000000</td>\n",
       "      <td>0.000000</td>\n",
       "      <td>0.000000</td>\n",
       "      <td>0.420000</td>\n",
       "      <td>0.000000</td>\n",
       "    </tr>\n",
       "    <tr>\n",
       "      <th>25%</th>\n",
       "      <td>223.500000</td>\n",
       "      <td>2.000000</td>\n",
       "      <td>0.000000</td>\n",
       "      <td>0.000000</td>\n",
       "      <td>21.000000</td>\n",
       "      <td>0.000000</td>\n",
       "    </tr>\n",
       "    <tr>\n",
       "      <th>50%</th>\n",
       "      <td>446.000000</td>\n",
       "      <td>3.000000</td>\n",
       "      <td>1.000000</td>\n",
       "      <td>0.000000</td>\n",
       "      <td>28.000000</td>\n",
       "      <td>0.000000</td>\n",
       "    </tr>\n",
       "    <tr>\n",
       "      <th>75%</th>\n",
       "      <td>668.500000</td>\n",
       "      <td>3.000000</td>\n",
       "      <td>1.000000</td>\n",
       "      <td>1.000000</td>\n",
       "      <td>36.000000</td>\n",
       "      <td>1.000000</td>\n",
       "    </tr>\n",
       "    <tr>\n",
       "      <th>max</th>\n",
       "      <td>891.000000</td>\n",
       "      <td>3.000000</td>\n",
       "      <td>1.000000</td>\n",
       "      <td>1.000000</td>\n",
       "      <td>88.000000</td>\n",
       "      <td>1.000000</td>\n",
       "    </tr>\n",
       "  </tbody>\n",
       "</table>\n",
       "</div>"
      ],
      "text/plain": [
       "       PassengerId      Pclass        Male      Female         Age    Survived\n",
       "count   891.000000  891.000000  891.000000  891.000000  891.000000  891.000000\n",
       "mean    446.000000    2.308642    0.647587    0.352413   29.718485    0.383838\n",
       "std     257.353842    0.836071    0.477990    0.477990   14.026406    0.486592\n",
       "min       1.000000    1.000000    0.000000    0.000000    0.420000    0.000000\n",
       "25%     223.500000    2.000000    0.000000    0.000000   21.000000    0.000000\n",
       "50%     446.000000    3.000000    1.000000    0.000000   28.000000    0.000000\n",
       "75%     668.500000    3.000000    1.000000    1.000000   36.000000    1.000000\n",
       "max     891.000000    3.000000    1.000000    1.000000   88.000000    1.000000"
      ]
     },
     "execution_count": 6,
     "metadata": {},
     "output_type": "execute_result"
    }
   ],
   "source": [
    "df.describe()"
   ]
  },
  {
   "cell_type": "code",
   "execution_count": 7,
   "id": "0e8b9668",
   "metadata": {
    "execution": {
     "iopub.execute_input": "2023-05-20T12:12:38.673650Z",
     "iopub.status.busy": "2023-05-20T12:12:38.673217Z",
     "iopub.status.idle": "2023-05-20T12:12:38.683335Z",
     "shell.execute_reply": "2023-05-20T12:12:38.681945Z"
    },
    "papermill": {
     "duration": 0.025251,
     "end_time": "2023-05-20T12:12:38.686579",
     "exception": false,
     "start_time": "2023-05-20T12:12:38.661328",
     "status": "completed"
    },
    "tags": []
   },
   "outputs": [],
   "source": [
    "x = df.drop(['Survived'], axis = 1)\n",
    "y = df[['Survived']]"
   ]
  },
  {
   "cell_type": "code",
   "execution_count": 8,
   "id": "148a2325",
   "metadata": {
    "execution": {
     "iopub.execute_input": "2023-05-20T12:12:38.709134Z",
     "iopub.status.busy": "2023-05-20T12:12:38.708702Z",
     "iopub.status.idle": "2023-05-20T12:12:38.719040Z",
     "shell.execute_reply": "2023-05-20T12:12:38.717849Z"
    },
    "papermill": {
     "duration": 0.025704,
     "end_time": "2023-05-20T12:12:38.722091",
     "exception": false,
     "start_time": "2023-05-20T12:12:38.696387",
     "status": "completed"
    },
    "tags": []
   },
   "outputs": [],
   "source": [
    "trainX, testX, trainY, testY = train_test_split(x, y, test_size = 0.2 )"
   ]
  },
  {
   "cell_type": "markdown",
   "id": "c6271b30",
   "metadata": {
    "papermill": {
     "duration": 0.009955,
     "end_time": "2023-05-20T12:12:38.741822",
     "exception": false,
     "start_time": "2023-05-20T12:12:38.731867",
     "status": "completed"
    },
    "tags": []
   },
   "source": [
    "# **Decision Tree**"
   ]
  },
  {
   "cell_type": "code",
   "execution_count": 9,
   "id": "3f1420f7",
   "metadata": {
    "execution": {
     "iopub.execute_input": "2023-05-20T12:12:38.764059Z",
     "iopub.status.busy": "2023-05-20T12:12:38.763582Z",
     "iopub.status.idle": "2023-05-20T12:12:38.784866Z",
     "shell.execute_reply": "2023-05-20T12:12:38.783943Z"
    },
    "papermill": {
     "duration": 0.035832,
     "end_time": "2023-05-20T12:12:38.787928",
     "exception": false,
     "start_time": "2023-05-20T12:12:38.752096",
     "status": "completed"
    },
    "tags": []
   },
   "outputs": [
    {
     "data": {
      "text/html": [
       "<style>#sk-container-id-1 {color: black;background-color: white;}#sk-container-id-1 pre{padding: 0;}#sk-container-id-1 div.sk-toggleable {background-color: white;}#sk-container-id-1 label.sk-toggleable__label {cursor: pointer;display: block;width: 100%;margin-bottom: 0;padding: 0.3em;box-sizing: border-box;text-align: center;}#sk-container-id-1 label.sk-toggleable__label-arrow:before {content: \"▸\";float: left;margin-right: 0.25em;color: #696969;}#sk-container-id-1 label.sk-toggleable__label-arrow:hover:before {color: black;}#sk-container-id-1 div.sk-estimator:hover label.sk-toggleable__label-arrow:before {color: black;}#sk-container-id-1 div.sk-toggleable__content {max-height: 0;max-width: 0;overflow: hidden;text-align: left;background-color: #f0f8ff;}#sk-container-id-1 div.sk-toggleable__content pre {margin: 0.2em;color: black;border-radius: 0.25em;background-color: #f0f8ff;}#sk-container-id-1 input.sk-toggleable__control:checked~div.sk-toggleable__content {max-height: 200px;max-width: 100%;overflow: auto;}#sk-container-id-1 input.sk-toggleable__control:checked~label.sk-toggleable__label-arrow:before {content: \"▾\";}#sk-container-id-1 div.sk-estimator input.sk-toggleable__control:checked~label.sk-toggleable__label {background-color: #d4ebff;}#sk-container-id-1 div.sk-label input.sk-toggleable__control:checked~label.sk-toggleable__label {background-color: #d4ebff;}#sk-container-id-1 input.sk-hidden--visually {border: 0;clip: rect(1px 1px 1px 1px);clip: rect(1px, 1px, 1px, 1px);height: 1px;margin: -1px;overflow: hidden;padding: 0;position: absolute;width: 1px;}#sk-container-id-1 div.sk-estimator {font-family: monospace;background-color: #f0f8ff;border: 1px dotted black;border-radius: 0.25em;box-sizing: border-box;margin-bottom: 0.5em;}#sk-container-id-1 div.sk-estimator:hover {background-color: #d4ebff;}#sk-container-id-1 div.sk-parallel-item::after {content: \"\";width: 100%;border-bottom: 1px solid gray;flex-grow: 1;}#sk-container-id-1 div.sk-label:hover label.sk-toggleable__label {background-color: #d4ebff;}#sk-container-id-1 div.sk-serial::before {content: \"\";position: absolute;border-left: 1px solid gray;box-sizing: border-box;top: 0;bottom: 0;left: 50%;z-index: 0;}#sk-container-id-1 div.sk-serial {display: flex;flex-direction: column;align-items: center;background-color: white;padding-right: 0.2em;padding-left: 0.2em;position: relative;}#sk-container-id-1 div.sk-item {position: relative;z-index: 1;}#sk-container-id-1 div.sk-parallel {display: flex;align-items: stretch;justify-content: center;background-color: white;position: relative;}#sk-container-id-1 div.sk-item::before, #sk-container-id-1 div.sk-parallel-item::before {content: \"\";position: absolute;border-left: 1px solid gray;box-sizing: border-box;top: 0;bottom: 0;left: 50%;z-index: -1;}#sk-container-id-1 div.sk-parallel-item {display: flex;flex-direction: column;z-index: 1;position: relative;background-color: white;}#sk-container-id-1 div.sk-parallel-item:first-child::after {align-self: flex-end;width: 50%;}#sk-container-id-1 div.sk-parallel-item:last-child::after {align-self: flex-start;width: 50%;}#sk-container-id-1 div.sk-parallel-item:only-child::after {width: 0;}#sk-container-id-1 div.sk-dashed-wrapped {border: 1px dashed gray;margin: 0 0.4em 0.5em 0.4em;box-sizing: border-box;padding-bottom: 0.4em;background-color: white;}#sk-container-id-1 div.sk-label label {font-family: monospace;font-weight: bold;display: inline-block;line-height: 1.2em;}#sk-container-id-1 div.sk-label-container {text-align: center;}#sk-container-id-1 div.sk-container {/* jupyter's `normalize.less` sets `[hidden] { display: none; }` but bootstrap.min.css set `[hidden] { display: none !important; }` so we also need the `!important` here to be able to override the default hidden behavior on the sphinx rendered scikit-learn.org. See: https://github.com/scikit-learn/scikit-learn/issues/21755 */display: inline-block !important;position: relative;}#sk-container-id-1 div.sk-text-repr-fallback {display: none;}</style><div id=\"sk-container-id-1\" class=\"sk-top-container\"><div class=\"sk-text-repr-fallback\"><pre>DecisionTreeClassifier()</pre><b>In a Jupyter environment, please rerun this cell to show the HTML representation or trust the notebook. <br />On GitHub, the HTML representation is unable to render, please try loading this page with nbviewer.org.</b></div><div class=\"sk-container\" hidden><div class=\"sk-item\"><div class=\"sk-estimator sk-toggleable\"><input class=\"sk-toggleable__control sk-hidden--visually\" id=\"sk-estimator-id-1\" type=\"checkbox\" checked><label for=\"sk-estimator-id-1\" class=\"sk-toggleable__label sk-toggleable__label-arrow\">DecisionTreeClassifier</label><div class=\"sk-toggleable__content\"><pre>DecisionTreeClassifier()</pre></div></div></div></div></div>"
      ],
      "text/plain": [
       "DecisionTreeClassifier()"
      ]
     },
     "execution_count": 9,
     "metadata": {},
     "output_type": "execute_result"
    }
   ],
   "source": [
    "dtc = DecisionTreeClassifier()\n",
    "dtc.fit(trainX, trainY)"
   ]
  },
  {
   "cell_type": "code",
   "execution_count": 10,
   "id": "b81236e5",
   "metadata": {
    "execution": {
     "iopub.execute_input": "2023-05-20T12:12:38.812752Z",
     "iopub.status.busy": "2023-05-20T12:12:38.812196Z",
     "iopub.status.idle": "2023-05-20T12:12:38.821280Z",
     "shell.execute_reply": "2023-05-20T12:12:38.819388Z"
    },
    "papermill": {
     "duration": 0.024695,
     "end_time": "2023-05-20T12:12:38.823926",
     "exception": false,
     "start_time": "2023-05-20T12:12:38.799231",
     "status": "completed"
    },
    "tags": []
   },
   "outputs": [],
   "source": [
    "y_predicted = dtc.predict(testX)"
   ]
  },
  {
   "cell_type": "code",
   "execution_count": 11,
   "id": "c38528d4",
   "metadata": {
    "execution": {
     "iopub.execute_input": "2023-05-20T12:12:38.844201Z",
     "iopub.status.busy": "2023-05-20T12:12:38.843821Z",
     "iopub.status.idle": "2023-05-20T12:12:38.860037Z",
     "shell.execute_reply": "2023-05-20T12:12:38.858615Z"
    },
    "papermill": {
     "duration": 0.029521,
     "end_time": "2023-05-20T12:12:38.862640",
     "exception": false,
     "start_time": "2023-05-20T12:12:38.833119",
     "status": "completed"
    },
    "tags": []
   },
   "outputs": [
    {
     "data": {
      "text/plain": [
       "array([[94, 23],\n",
       "       [25, 37]])"
      ]
     },
     "execution_count": 11,
     "metadata": {},
     "output_type": "execute_result"
    }
   ],
   "source": [
    "confusion_matrix (testY, y_predicted)"
   ]
  },
  {
   "cell_type": "code",
   "execution_count": 12,
   "id": "7cb6a40c",
   "metadata": {
    "execution": {
     "iopub.execute_input": "2023-05-20T12:12:38.883317Z",
     "iopub.status.busy": "2023-05-20T12:12:38.882874Z",
     "iopub.status.idle": "2023-05-20T12:12:38.895126Z",
     "shell.execute_reply": "2023-05-20T12:12:38.893236Z"
    },
    "papermill": {
     "duration": 0.026527,
     "end_time": "2023-05-20T12:12:38.898543",
     "exception": false,
     "start_time": "2023-05-20T12:12:38.872016",
     "status": "completed"
    },
    "tags": []
   },
   "outputs": [
    {
     "data": {
      "text/plain": [
       "(1.0, 0.9583333333333334, 1.0, 0.9787234042553191)"
      ]
     },
     "execution_count": 12,
     "metadata": {},
     "output_type": "execute_result"
    }
   ],
   "source": [
    "tp = 92\n",
    "fn = 4\n",
    "fp = 0\n",
    "tn = 109\n",
    "precision = tp/(tp + fp)\n",
    "recall = tp/(tp + fn)\n",
    "specificity = tn/(fp + tn)\n",
    "f1 = 2 * (precision * recall) / (precision + recall)\n",
    "precision, recall, specificity, f1"
   ]
  },
  {
   "cell_type": "markdown",
   "id": "edd9e0b2",
   "metadata": {
    "papermill": {
     "duration": 0.010491,
     "end_time": "2023-05-20T12:12:38.919890",
     "exception": false,
     "start_time": "2023-05-20T12:12:38.909399",
     "status": "completed"
    },
    "tags": []
   },
   "source": [
    "# **SVM**"
   ]
  },
  {
   "cell_type": "code",
   "execution_count": 13,
   "id": "e0f40933",
   "metadata": {
    "execution": {
     "iopub.execute_input": "2023-05-20T12:12:38.947411Z",
     "iopub.status.busy": "2023-05-20T12:12:38.945639Z",
     "iopub.status.idle": "2023-05-20T12:18:03.345696Z",
     "shell.execute_reply": "2023-05-20T12:18:03.343818Z"
    },
    "papermill": {
     "duration": 324.426939,
     "end_time": "2023-05-20T12:18:03.358958",
     "exception": false,
     "start_time": "2023-05-20T12:12:38.932019",
     "status": "completed"
    },
    "tags": []
   },
   "outputs": [
    {
     "data": {
      "text/html": [
       "<style>#sk-container-id-2 {color: black;background-color: white;}#sk-container-id-2 pre{padding: 0;}#sk-container-id-2 div.sk-toggleable {background-color: white;}#sk-container-id-2 label.sk-toggleable__label {cursor: pointer;display: block;width: 100%;margin-bottom: 0;padding: 0.3em;box-sizing: border-box;text-align: center;}#sk-container-id-2 label.sk-toggleable__label-arrow:before {content: \"▸\";float: left;margin-right: 0.25em;color: #696969;}#sk-container-id-2 label.sk-toggleable__label-arrow:hover:before {color: black;}#sk-container-id-2 div.sk-estimator:hover label.sk-toggleable__label-arrow:before {color: black;}#sk-container-id-2 div.sk-toggleable__content {max-height: 0;max-width: 0;overflow: hidden;text-align: left;background-color: #f0f8ff;}#sk-container-id-2 div.sk-toggleable__content pre {margin: 0.2em;color: black;border-radius: 0.25em;background-color: #f0f8ff;}#sk-container-id-2 input.sk-toggleable__control:checked~div.sk-toggleable__content {max-height: 200px;max-width: 100%;overflow: auto;}#sk-container-id-2 input.sk-toggleable__control:checked~label.sk-toggleable__label-arrow:before {content: \"▾\";}#sk-container-id-2 div.sk-estimator input.sk-toggleable__control:checked~label.sk-toggleable__label {background-color: #d4ebff;}#sk-container-id-2 div.sk-label input.sk-toggleable__control:checked~label.sk-toggleable__label {background-color: #d4ebff;}#sk-container-id-2 input.sk-hidden--visually {border: 0;clip: rect(1px 1px 1px 1px);clip: rect(1px, 1px, 1px, 1px);height: 1px;margin: -1px;overflow: hidden;padding: 0;position: absolute;width: 1px;}#sk-container-id-2 div.sk-estimator {font-family: monospace;background-color: #f0f8ff;border: 1px dotted black;border-radius: 0.25em;box-sizing: border-box;margin-bottom: 0.5em;}#sk-container-id-2 div.sk-estimator:hover {background-color: #d4ebff;}#sk-container-id-2 div.sk-parallel-item::after {content: \"\";width: 100%;border-bottom: 1px solid gray;flex-grow: 1;}#sk-container-id-2 div.sk-label:hover label.sk-toggleable__label {background-color: #d4ebff;}#sk-container-id-2 div.sk-serial::before {content: \"\";position: absolute;border-left: 1px solid gray;box-sizing: border-box;top: 0;bottom: 0;left: 50%;z-index: 0;}#sk-container-id-2 div.sk-serial {display: flex;flex-direction: column;align-items: center;background-color: white;padding-right: 0.2em;padding-left: 0.2em;position: relative;}#sk-container-id-2 div.sk-item {position: relative;z-index: 1;}#sk-container-id-2 div.sk-parallel {display: flex;align-items: stretch;justify-content: center;background-color: white;position: relative;}#sk-container-id-2 div.sk-item::before, #sk-container-id-2 div.sk-parallel-item::before {content: \"\";position: absolute;border-left: 1px solid gray;box-sizing: border-box;top: 0;bottom: 0;left: 50%;z-index: -1;}#sk-container-id-2 div.sk-parallel-item {display: flex;flex-direction: column;z-index: 1;position: relative;background-color: white;}#sk-container-id-2 div.sk-parallel-item:first-child::after {align-self: flex-end;width: 50%;}#sk-container-id-2 div.sk-parallel-item:last-child::after {align-self: flex-start;width: 50%;}#sk-container-id-2 div.sk-parallel-item:only-child::after {width: 0;}#sk-container-id-2 div.sk-dashed-wrapped {border: 1px dashed gray;margin: 0 0.4em 0.5em 0.4em;box-sizing: border-box;padding-bottom: 0.4em;background-color: white;}#sk-container-id-2 div.sk-label label {font-family: monospace;font-weight: bold;display: inline-block;line-height: 1.2em;}#sk-container-id-2 div.sk-label-container {text-align: center;}#sk-container-id-2 div.sk-container {/* jupyter's `normalize.less` sets `[hidden] { display: none; }` but bootstrap.min.css set `[hidden] { display: none !important; }` so we also need the `!important` here to be able to override the default hidden behavior on the sphinx rendered scikit-learn.org. See: https://github.com/scikit-learn/scikit-learn/issues/21755 */display: inline-block !important;position: relative;}#sk-container-id-2 div.sk-text-repr-fallback {display: none;}</style><div id=\"sk-container-id-2\" class=\"sk-top-container\"><div class=\"sk-text-repr-fallback\"><pre>SVC(kernel=&#x27;linear&#x27;)</pre><b>In a Jupyter environment, please rerun this cell to show the HTML representation or trust the notebook. <br />On GitHub, the HTML representation is unable to render, please try loading this page with nbviewer.org.</b></div><div class=\"sk-container\" hidden><div class=\"sk-item\"><div class=\"sk-estimator sk-toggleable\"><input class=\"sk-toggleable__control sk-hidden--visually\" id=\"sk-estimator-id-2\" type=\"checkbox\" checked><label for=\"sk-estimator-id-2\" class=\"sk-toggleable__label sk-toggleable__label-arrow\">SVC</label><div class=\"sk-toggleable__content\"><pre>SVC(kernel=&#x27;linear&#x27;)</pre></div></div></div></div></div>"
      ],
      "text/plain": [
       "SVC(kernel='linear')"
      ]
     },
     "execution_count": 13,
     "metadata": {},
     "output_type": "execute_result"
    }
   ],
   "source": [
    "svm = SVC(kernel = 'linear')\n",
    "svm.fit (trainX, trainY.values.ravel())"
   ]
  },
  {
   "cell_type": "code",
   "execution_count": 14,
   "id": "b6909a9f",
   "metadata": {
    "execution": {
     "iopub.execute_input": "2023-05-20T12:18:03.384325Z",
     "iopub.status.busy": "2023-05-20T12:18:03.383920Z",
     "iopub.status.idle": "2023-05-20T12:18:03.391951Z",
     "shell.execute_reply": "2023-05-20T12:18:03.391121Z"
    },
    "papermill": {
     "duration": 0.024224,
     "end_time": "2023-05-20T12:18:03.394915",
     "exception": false,
     "start_time": "2023-05-20T12:18:03.370691",
     "status": "completed"
    },
    "tags": []
   },
   "outputs": [],
   "source": [
    "y_predicted = svm.predict (testX)"
   ]
  },
  {
   "cell_type": "code",
   "execution_count": 15,
   "id": "f0ca3a1b",
   "metadata": {
    "execution": {
     "iopub.execute_input": "2023-05-20T12:18:03.428007Z",
     "iopub.status.busy": "2023-05-20T12:18:03.426607Z",
     "iopub.status.idle": "2023-05-20T12:18:03.442346Z",
     "shell.execute_reply": "2023-05-20T12:18:03.441096Z"
    },
    "papermill": {
     "duration": 0.033527,
     "end_time": "2023-05-20T12:18:03.444930",
     "exception": false,
     "start_time": "2023-05-20T12:18:03.411403",
     "status": "completed"
    },
    "tags": []
   },
   "outputs": [
    {
     "data": {
      "text/plain": [
       "array([[97, 20],\n",
       "       [20, 42]])"
      ]
     },
     "execution_count": 15,
     "metadata": {},
     "output_type": "execute_result"
    }
   ],
   "source": [
    "confusion_matrix (testY, y_predicted)"
   ]
  },
  {
   "cell_type": "code",
   "execution_count": 16,
   "id": "8493380b",
   "metadata": {
    "execution": {
     "iopub.execute_input": "2023-05-20T12:18:03.475795Z",
     "iopub.status.busy": "2023-05-20T12:18:03.474291Z",
     "iopub.status.idle": "2023-05-20T12:18:03.487815Z",
     "shell.execute_reply": "2023-05-20T12:18:03.486720Z"
    },
    "papermill": {
     "duration": 0.031758,
     "end_time": "2023-05-20T12:18:03.490916",
     "exception": false,
     "start_time": "2023-05-20T12:18:03.459158",
     "status": "completed"
    },
    "tags": []
   },
   "outputs": [
    {
     "data": {
      "text/plain": [
       "(0.881578947368421, 0.7127659574468085, 0.9174311926605505, 0.788235294117647)"
      ]
     },
     "execution_count": 16,
     "metadata": {},
     "output_type": "execute_result"
    }
   ],
   "source": [
    "tp = 67\n",
    "fn = 27\n",
    "fp = 9\n",
    "tn = 100\n",
    "precision = tp/(tp + fp)\n",
    "recall = tp/(tp + fn)\n",
    "specificity = tn/(fp + tn)\n",
    "f1 = 2 * ( precision*recall)/(precision+recall)\n",
    "precision, recall, specificity, f1"
   ]
  },
  {
   "cell_type": "markdown",
   "id": "2e6f54f8",
   "metadata": {
    "papermill": {
     "duration": 0.012903,
     "end_time": "2023-05-20T12:18:03.517212",
     "exception": false,
     "start_time": "2023-05-20T12:18:03.504309",
     "status": "completed"
    },
    "tags": []
   },
   "source": [
    "# **Naive Bayes**"
   ]
  },
  {
   "cell_type": "code",
   "execution_count": 17,
   "id": "6116b2fd",
   "metadata": {
    "execution": {
     "iopub.execute_input": "2023-05-20T12:18:03.542084Z",
     "iopub.status.busy": "2023-05-20T12:18:03.541151Z",
     "iopub.status.idle": "2023-05-20T12:18:03.556388Z",
     "shell.execute_reply": "2023-05-20T12:18:03.555541Z"
    },
    "papermill": {
     "duration": 0.030341,
     "end_time": "2023-05-20T12:18:03.559160",
     "exception": false,
     "start_time": "2023-05-20T12:18:03.528819",
     "status": "completed"
    },
    "tags": []
   },
   "outputs": [
    {
     "data": {
      "text/html": [
       "<style>#sk-container-id-3 {color: black;background-color: white;}#sk-container-id-3 pre{padding: 0;}#sk-container-id-3 div.sk-toggleable {background-color: white;}#sk-container-id-3 label.sk-toggleable__label {cursor: pointer;display: block;width: 100%;margin-bottom: 0;padding: 0.3em;box-sizing: border-box;text-align: center;}#sk-container-id-3 label.sk-toggleable__label-arrow:before {content: \"▸\";float: left;margin-right: 0.25em;color: #696969;}#sk-container-id-3 label.sk-toggleable__label-arrow:hover:before {color: black;}#sk-container-id-3 div.sk-estimator:hover label.sk-toggleable__label-arrow:before {color: black;}#sk-container-id-3 div.sk-toggleable__content {max-height: 0;max-width: 0;overflow: hidden;text-align: left;background-color: #f0f8ff;}#sk-container-id-3 div.sk-toggleable__content pre {margin: 0.2em;color: black;border-radius: 0.25em;background-color: #f0f8ff;}#sk-container-id-3 input.sk-toggleable__control:checked~div.sk-toggleable__content {max-height: 200px;max-width: 100%;overflow: auto;}#sk-container-id-3 input.sk-toggleable__control:checked~label.sk-toggleable__label-arrow:before {content: \"▾\";}#sk-container-id-3 div.sk-estimator input.sk-toggleable__control:checked~label.sk-toggleable__label {background-color: #d4ebff;}#sk-container-id-3 div.sk-label input.sk-toggleable__control:checked~label.sk-toggleable__label {background-color: #d4ebff;}#sk-container-id-3 input.sk-hidden--visually {border: 0;clip: rect(1px 1px 1px 1px);clip: rect(1px, 1px, 1px, 1px);height: 1px;margin: -1px;overflow: hidden;padding: 0;position: absolute;width: 1px;}#sk-container-id-3 div.sk-estimator {font-family: monospace;background-color: #f0f8ff;border: 1px dotted black;border-radius: 0.25em;box-sizing: border-box;margin-bottom: 0.5em;}#sk-container-id-3 div.sk-estimator:hover {background-color: #d4ebff;}#sk-container-id-3 div.sk-parallel-item::after {content: \"\";width: 100%;border-bottom: 1px solid gray;flex-grow: 1;}#sk-container-id-3 div.sk-label:hover label.sk-toggleable__label {background-color: #d4ebff;}#sk-container-id-3 div.sk-serial::before {content: \"\";position: absolute;border-left: 1px solid gray;box-sizing: border-box;top: 0;bottom: 0;left: 50%;z-index: 0;}#sk-container-id-3 div.sk-serial {display: flex;flex-direction: column;align-items: center;background-color: white;padding-right: 0.2em;padding-left: 0.2em;position: relative;}#sk-container-id-3 div.sk-item {position: relative;z-index: 1;}#sk-container-id-3 div.sk-parallel {display: flex;align-items: stretch;justify-content: center;background-color: white;position: relative;}#sk-container-id-3 div.sk-item::before, #sk-container-id-3 div.sk-parallel-item::before {content: \"\";position: absolute;border-left: 1px solid gray;box-sizing: border-box;top: 0;bottom: 0;left: 50%;z-index: -1;}#sk-container-id-3 div.sk-parallel-item {display: flex;flex-direction: column;z-index: 1;position: relative;background-color: white;}#sk-container-id-3 div.sk-parallel-item:first-child::after {align-self: flex-end;width: 50%;}#sk-container-id-3 div.sk-parallel-item:last-child::after {align-self: flex-start;width: 50%;}#sk-container-id-3 div.sk-parallel-item:only-child::after {width: 0;}#sk-container-id-3 div.sk-dashed-wrapped {border: 1px dashed gray;margin: 0 0.4em 0.5em 0.4em;box-sizing: border-box;padding-bottom: 0.4em;background-color: white;}#sk-container-id-3 div.sk-label label {font-family: monospace;font-weight: bold;display: inline-block;line-height: 1.2em;}#sk-container-id-3 div.sk-label-container {text-align: center;}#sk-container-id-3 div.sk-container {/* jupyter's `normalize.less` sets `[hidden] { display: none; }` but bootstrap.min.css set `[hidden] { display: none !important; }` so we also need the `!important` here to be able to override the default hidden behavior on the sphinx rendered scikit-learn.org. See: https://github.com/scikit-learn/scikit-learn/issues/21755 */display: inline-block !important;position: relative;}#sk-container-id-3 div.sk-text-repr-fallback {display: none;}</style><div id=\"sk-container-id-3\" class=\"sk-top-container\"><div class=\"sk-text-repr-fallback\"><pre>GaussianNB()</pre><b>In a Jupyter environment, please rerun this cell to show the HTML representation or trust the notebook. <br />On GitHub, the HTML representation is unable to render, please try loading this page with nbviewer.org.</b></div><div class=\"sk-container\" hidden><div class=\"sk-item\"><div class=\"sk-estimator sk-toggleable\"><input class=\"sk-toggleable__control sk-hidden--visually\" id=\"sk-estimator-id-3\" type=\"checkbox\" checked><label for=\"sk-estimator-id-3\" class=\"sk-toggleable__label sk-toggleable__label-arrow\">GaussianNB</label><div class=\"sk-toggleable__content\"><pre>GaussianNB()</pre></div></div></div></div></div>"
      ],
      "text/plain": [
       "GaussianNB()"
      ]
     },
     "execution_count": 17,
     "metadata": {},
     "output_type": "execute_result"
    }
   ],
   "source": [
    "nb = GaussianNB ()\n",
    "nb.fit (trainX, trainY.values.ravel())"
   ]
  },
  {
   "cell_type": "code",
   "execution_count": 18,
   "id": "4f2d822e",
   "metadata": {
    "execution": {
     "iopub.execute_input": "2023-05-20T12:18:03.586527Z",
     "iopub.status.busy": "2023-05-20T12:18:03.585429Z",
     "iopub.status.idle": "2023-05-20T12:18:03.595172Z",
     "shell.execute_reply": "2023-05-20T12:18:03.593576Z"
    },
    "papermill": {
     "duration": 0.026548,
     "end_time": "2023-05-20T12:18:03.598150",
     "exception": false,
     "start_time": "2023-05-20T12:18:03.571602",
     "status": "completed"
    },
    "tags": []
   },
   "outputs": [],
   "source": [
    "y_predicted = nb.predict (testX)"
   ]
  },
  {
   "cell_type": "code",
   "execution_count": 19,
   "id": "83e8834e",
   "metadata": {
    "execution": {
     "iopub.execute_input": "2023-05-20T12:18:03.622954Z",
     "iopub.status.busy": "2023-05-20T12:18:03.622478Z",
     "iopub.status.idle": "2023-05-20T12:18:03.636437Z",
     "shell.execute_reply": "2023-05-20T12:18:03.634981Z"
    },
    "papermill": {
     "duration": 0.030124,
     "end_time": "2023-05-20T12:18:03.639192",
     "exception": false,
     "start_time": "2023-05-20T12:18:03.609068",
     "status": "completed"
    },
    "tags": []
   },
   "outputs": [
    {
     "data": {
      "text/plain": [
       "array([[97, 20],\n",
       "       [20, 42]])"
      ]
     },
     "execution_count": 19,
     "metadata": {},
     "output_type": "execute_result"
    }
   ],
   "source": [
    "confusion_matrix (testY, y_predicted)"
   ]
  },
  {
   "cell_type": "code",
   "execution_count": 20,
   "id": "5a83874e",
   "metadata": {
    "execution": {
     "iopub.execute_input": "2023-05-20T12:18:03.662913Z",
     "iopub.status.busy": "2023-05-20T12:18:03.662507Z",
     "iopub.status.idle": "2023-05-20T12:18:03.673411Z",
     "shell.execute_reply": "2023-05-20T12:18:03.672008Z"
    },
    "papermill": {
     "duration": 0.025866,
     "end_time": "2023-05-20T12:18:03.676054",
     "exception": false,
     "start_time": "2023-05-20T12:18:03.650188",
     "status": "completed"
    },
    "tags": []
   },
   "outputs": [
    {
     "data": {
      "text/plain": [
       "(0.8588235294117647,\n",
       " 0.7604166666666666,\n",
       " 0.8899082568807339,\n",
       " 0.8066298342541436)"
      ]
     },
     "execution_count": 20,
     "metadata": {},
     "output_type": "execute_result"
    }
   ],
   "source": [
    "tp = 73\n",
    "fn = 23\n",
    "fp = 12\n",
    "tn = 97\n",
    "precision = tp/(tp + fp)\n",
    "recall = tp/(tp + fn)\n",
    "specificity = tn/(fp + tn)\n",
    "f1 = 2 * ( precision*recall)/(precision+recall)\n",
    "precision, recall, specificity, f1"
   ]
  },
  {
   "cell_type": "markdown",
   "id": "105676a9",
   "metadata": {
    "papermill": {
     "duration": 0.011181,
     "end_time": "2023-05-20T12:18:03.698986",
     "exception": false,
     "start_time": "2023-05-20T12:18:03.687805",
     "status": "completed"
    },
    "tags": []
   },
   "source": [
    "# **Random Forest**"
   ]
  },
  {
   "cell_type": "code",
   "execution_count": 21,
   "id": "34b18e64",
   "metadata": {
    "execution": {
     "iopub.execute_input": "2023-05-20T12:18:03.723502Z",
     "iopub.status.busy": "2023-05-20T12:18:03.723059Z",
     "iopub.status.idle": "2023-05-20T12:18:04.101528Z",
     "shell.execute_reply": "2023-05-20T12:18:04.099592Z"
    },
    "papermill": {
     "duration": 0.393912,
     "end_time": "2023-05-20T12:18:04.104101",
     "exception": false,
     "start_time": "2023-05-20T12:18:03.710189",
     "status": "completed"
    },
    "tags": []
   },
   "outputs": [
    {
     "data": {
      "text/html": [
       "<style>#sk-container-id-4 {color: black;background-color: white;}#sk-container-id-4 pre{padding: 0;}#sk-container-id-4 div.sk-toggleable {background-color: white;}#sk-container-id-4 label.sk-toggleable__label {cursor: pointer;display: block;width: 100%;margin-bottom: 0;padding: 0.3em;box-sizing: border-box;text-align: center;}#sk-container-id-4 label.sk-toggleable__label-arrow:before {content: \"▸\";float: left;margin-right: 0.25em;color: #696969;}#sk-container-id-4 label.sk-toggleable__label-arrow:hover:before {color: black;}#sk-container-id-4 div.sk-estimator:hover label.sk-toggleable__label-arrow:before {color: black;}#sk-container-id-4 div.sk-toggleable__content {max-height: 0;max-width: 0;overflow: hidden;text-align: left;background-color: #f0f8ff;}#sk-container-id-4 div.sk-toggleable__content pre {margin: 0.2em;color: black;border-radius: 0.25em;background-color: #f0f8ff;}#sk-container-id-4 input.sk-toggleable__control:checked~div.sk-toggleable__content {max-height: 200px;max-width: 100%;overflow: auto;}#sk-container-id-4 input.sk-toggleable__control:checked~label.sk-toggleable__label-arrow:before {content: \"▾\";}#sk-container-id-4 div.sk-estimator input.sk-toggleable__control:checked~label.sk-toggleable__label {background-color: #d4ebff;}#sk-container-id-4 div.sk-label input.sk-toggleable__control:checked~label.sk-toggleable__label {background-color: #d4ebff;}#sk-container-id-4 input.sk-hidden--visually {border: 0;clip: rect(1px 1px 1px 1px);clip: rect(1px, 1px, 1px, 1px);height: 1px;margin: -1px;overflow: hidden;padding: 0;position: absolute;width: 1px;}#sk-container-id-4 div.sk-estimator {font-family: monospace;background-color: #f0f8ff;border: 1px dotted black;border-radius: 0.25em;box-sizing: border-box;margin-bottom: 0.5em;}#sk-container-id-4 div.sk-estimator:hover {background-color: #d4ebff;}#sk-container-id-4 div.sk-parallel-item::after {content: \"\";width: 100%;border-bottom: 1px solid gray;flex-grow: 1;}#sk-container-id-4 div.sk-label:hover label.sk-toggleable__label {background-color: #d4ebff;}#sk-container-id-4 div.sk-serial::before {content: \"\";position: absolute;border-left: 1px solid gray;box-sizing: border-box;top: 0;bottom: 0;left: 50%;z-index: 0;}#sk-container-id-4 div.sk-serial {display: flex;flex-direction: column;align-items: center;background-color: white;padding-right: 0.2em;padding-left: 0.2em;position: relative;}#sk-container-id-4 div.sk-item {position: relative;z-index: 1;}#sk-container-id-4 div.sk-parallel {display: flex;align-items: stretch;justify-content: center;background-color: white;position: relative;}#sk-container-id-4 div.sk-item::before, #sk-container-id-4 div.sk-parallel-item::before {content: \"\";position: absolute;border-left: 1px solid gray;box-sizing: border-box;top: 0;bottom: 0;left: 50%;z-index: -1;}#sk-container-id-4 div.sk-parallel-item {display: flex;flex-direction: column;z-index: 1;position: relative;background-color: white;}#sk-container-id-4 div.sk-parallel-item:first-child::after {align-self: flex-end;width: 50%;}#sk-container-id-4 div.sk-parallel-item:last-child::after {align-self: flex-start;width: 50%;}#sk-container-id-4 div.sk-parallel-item:only-child::after {width: 0;}#sk-container-id-4 div.sk-dashed-wrapped {border: 1px dashed gray;margin: 0 0.4em 0.5em 0.4em;box-sizing: border-box;padding-bottom: 0.4em;background-color: white;}#sk-container-id-4 div.sk-label label {font-family: monospace;font-weight: bold;display: inline-block;line-height: 1.2em;}#sk-container-id-4 div.sk-label-container {text-align: center;}#sk-container-id-4 div.sk-container {/* jupyter's `normalize.less` sets `[hidden] { display: none; }` but bootstrap.min.css set `[hidden] { display: none !important; }` so we also need the `!important` here to be able to override the default hidden behavior on the sphinx rendered scikit-learn.org. See: https://github.com/scikit-learn/scikit-learn/issues/21755 */display: inline-block !important;position: relative;}#sk-container-id-4 div.sk-text-repr-fallback {display: none;}</style><div id=\"sk-container-id-4\" class=\"sk-top-container\"><div class=\"sk-text-repr-fallback\"><pre>RandomForestClassifier()</pre><b>In a Jupyter environment, please rerun this cell to show the HTML representation or trust the notebook. <br />On GitHub, the HTML representation is unable to render, please try loading this page with nbviewer.org.</b></div><div class=\"sk-container\" hidden><div class=\"sk-item\"><div class=\"sk-estimator sk-toggleable\"><input class=\"sk-toggleable__control sk-hidden--visually\" id=\"sk-estimator-id-4\" type=\"checkbox\" checked><label for=\"sk-estimator-id-4\" class=\"sk-toggleable__label sk-toggleable__label-arrow\">RandomForestClassifier</label><div class=\"sk-toggleable__content\"><pre>RandomForestClassifier()</pre></div></div></div></div></div>"
      ],
      "text/plain": [
       "RandomForestClassifier()"
      ]
     },
     "execution_count": 21,
     "metadata": {},
     "output_type": "execute_result"
    }
   ],
   "source": [
    "rf = RandomForestClassifier ()\n",
    "rf.fit (trainX, trainY.values.ravel())"
   ]
  },
  {
   "cell_type": "code",
   "execution_count": 22,
   "id": "2a386ab8",
   "metadata": {
    "execution": {
     "iopub.execute_input": "2023-05-20T12:18:04.129445Z",
     "iopub.status.busy": "2023-05-20T12:18:04.128870Z",
     "iopub.status.idle": "2023-05-20T12:18:04.139074Z",
     "shell.execute_reply": "2023-05-20T12:18:04.137326Z"
    },
    "papermill": {
     "duration": 0.026304,
     "end_time": "2023-05-20T12:18:04.141897",
     "exception": false,
     "start_time": "2023-05-20T12:18:04.115593",
     "status": "completed"
    },
    "tags": []
   },
   "outputs": [],
   "source": [
    "y_predicted = svm.predict (testX)\n",
    "y_actual = testY"
   ]
  },
  {
   "cell_type": "code",
   "execution_count": 23,
   "id": "0fcdf09c",
   "metadata": {
    "execution": {
     "iopub.execute_input": "2023-05-20T12:18:04.168940Z",
     "iopub.status.busy": "2023-05-20T12:18:04.168313Z",
     "iopub.status.idle": "2023-05-20T12:18:04.183169Z",
     "shell.execute_reply": "2023-05-20T12:18:04.181739Z"
    },
    "papermill": {
     "duration": 0.03225,
     "end_time": "2023-05-20T12:18:04.186072",
     "exception": false,
     "start_time": "2023-05-20T12:18:04.153822",
     "status": "completed"
    },
    "tags": []
   },
   "outputs": [
    {
     "data": {
      "text/plain": [
       "array([[97, 20],\n",
       "       [20, 42]])"
      ]
     },
     "execution_count": 23,
     "metadata": {},
     "output_type": "execute_result"
    }
   ],
   "source": [
    "confusion_matrix (testY, y_predicted)"
   ]
  },
  {
   "cell_type": "code",
   "execution_count": 24,
   "id": "66c6e0a4",
   "metadata": {
    "execution": {
     "iopub.execute_input": "2023-05-20T12:18:04.211829Z",
     "iopub.status.busy": "2023-05-20T12:18:04.211381Z",
     "iopub.status.idle": "2023-05-20T12:18:04.223066Z",
     "shell.execute_reply": "2023-05-20T12:18:04.221696Z"
    },
    "papermill": {
     "duration": 0.027587,
     "end_time": "2023-05-20T12:18:04.225564",
     "exception": false,
     "start_time": "2023-05-20T12:18:04.197977",
     "status": "completed"
    },
    "tags": []
   },
   "outputs": [
    {
     "data": {
      "text/plain": [
       "(0.8846153846153846, 0.71875, 0.9174311926605505, 0.7931034482758621)"
      ]
     },
     "execution_count": 24,
     "metadata": {},
     "output_type": "execute_result"
    }
   ],
   "source": [
    "tp = 69\n",
    "fn = 27\n",
    "fp = 9\n",
    "tn = 100\n",
    "precision = tp/(tp + fp)\n",
    "recall = tp/(tp + fn)\n",
    "specificity = tn/(fp + tn)\n",
    "f1 = 2 * ( precision*recall)/(precision+recall)\n",
    "precision, recall, specificity, f1"
   ]
  }
 ],
 "metadata": {
  "kernelspec": {
   "display_name": "Python 3",
   "language": "python",
   "name": "python3"
  },
  "language_info": {
   "codemirror_mode": {
    "name": "ipython",
    "version": 3
   },
   "file_extension": ".py",
   "mimetype": "text/x-python",
   "name": "python",
   "nbconvert_exporter": "python",
   "pygments_lexer": "ipython3",
   "version": "3.10.10"
  },
  "papermill": {
   "default_parameters": {},
   "duration": 342.539801,
   "end_time": "2023-05-20T12:18:05.366375",
   "environment_variables": {},
   "exception": null,
   "input_path": "__notebook__.ipynb",
   "output_path": "__notebook__.ipynb",
   "parameters": {},
   "start_time": "2023-05-20T12:12:22.826574",
   "version": "2.4.0"
  }
 },
 "nbformat": 4,
 "nbformat_minor": 5
}
